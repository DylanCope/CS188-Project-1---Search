{
 "cells": [
  {
   "cell_type": "code",
   "execution_count": 10,
   "metadata": {},
   "outputs": [],
   "source": [
    "from layout import getLayout\n",
    "import numpy as np\n",
    "import matplotlib.pyplot as plt"
   ]
  },
  {
   "cell_type": "code",
   "execution_count": 14,
   "metadata": {},
   "outputs": [
    {
     "data": {
      "image/png": "[encoded data removed]",
      "text/plain": [
       "<Figure size 432x288 with 1 Axes>"
      ]
     },
     "metadata": {
      "needs_background": "light"
     },
     "output_type": "display_data"
    }
   ],
   "source": [
    "layout = getLayout('bigSearch.lay')\n",
    "walls = np.array(layout.walls.data)\n",
    "food = np.array(layout.food.data)\n",
    "plt.imshow(np.transpose(walls + 0.5 * food))\n",
    "plt.show()"
   ]
  },
  {
   "cell_type": "code",
   "execution_count": 138,
   "metadata": {},
   "outputs": [],
   "source": [
    "def isNumber(x):\n",
    "    return str(x).replace('.', '').isdigit()\n",
    "\n",
    "class Node(object):\n",
    "    \n",
    "    def __init__(self, pos):\n",
    "        assert isinstance(pos, tuple), 'Position must be a tuple'\n",
    "        assert all(map(isNumber, pos)), 'Position must only contain numbers'\n",
    "        self.pos = pos\n",
    "        \n",
    "    def __eq__(self, other):\n",
    "        return self.pos == other.pos if isinstance(other, Node) else False\n",
    "    \n",
    "    def __hash__(self):\n",
    "        return hash(self.pos)\n",
    "    \n",
    "    def __repr__(self):\n",
    "        return str(self.pos)"
   ]
  },
  {
   "cell_type": "code",
   "execution_count": 160,
   "metadata": {},
   "outputs": [],
   "source": [
    "class UndirectedEdge(object):\n",
    "    \n",
    "    def __init__(self, node1, node2):\n",
    "        assert isinstance(node1, Node) and isinstance(node2, Node)\n",
    "        self.node1 = node1\n",
    "        self.node2 = node2\n",
    "        \n",
    "    def asSet(self):\n",
    "        return {self.node1, self.node2}\n",
    "    \n",
    "    def __eq__(self, other):\n",
    "        return self.asSet() == other.asSet() if isinstance(other, UndirectedEdge) else False\n",
    "    \n",
    "    def __repr__(self):\n",
    "        return str(self.asSet())\n",
    "    \n",
    "    def __hash__(self):\n",
    "        return hash(self.__repr__())"
   ]
  },
  {
   "cell_type": "code",
   "execution_count": 161,
   "metadata": {},
   "outputs": [
    {
     "name": "stdout",
     "output_type": "stream",
     "text": [
      "4484881906609862518\n",
      "4484881906609862518\n"
     ]
    },
    {
     "data": {
      "text/plain": [
       "({(1, 2), (3, 4)}, {(1, 2), (3, 4)}, True)"
      ]
     },
     "execution_count": 161,
     "metadata": {},
     "output_type": "execute_result"
    }
   ],
   "source": [
    "e1 = UndirectedEdge(Node((1, 2)), Node((3, 4))) \n",
    "e2 = UndirectedEdge(Node((3, 4)), Node((1, 2)))\n",
    "e1, e2, e1 == e2"
   ]
  },
  {
   "cell_type": "code",
   "execution_count": 157,
   "metadata": {},
   "outputs": [
    {
     "data": {
      "text/plain": [
       "True"
      ]
     },
     "execution_count": 157,
     "metadata": {},
     "output_type": "execute_result"
    }
   ],
   "source": [
    "hash(e1) == hash(e2)"
   ]
  },
  {
   "cell_type": "code",
   "execution_count": null,
   "metadata": {},
   "outputs": [],
   "source": []
  }
 ],
 "metadata": {
  "kernelspec": {
   "display_name": "Python 3",
   "language": "python",
   "name": "python3"
  },
  "language_info": {
   "codemirror_mode": {
    "name": "ipython",
    "version": 3
   },
   "file_extension": ".py",
   "mimetype": "text/x-python",
   "name": "python",
   "nbconvert_exporter": "python",
   "pygments_lexer": "ipython3",
   "version": "3.5.4"
  }
 },
 "nbformat": 4,
 "nbformat_minor": 2
}
